{
 "cells": [
  {
   "cell_type": "markdown",
   "id": "31b986bc-5705-4b2a-b89a-5942e9f87671",
   "metadata": {},
   "source": [
    "<h2>ZADANIE 2 KONVOLUČNÉ NEURÓNOVÉ SIETE</h2>"
   ]
  },
  {
   "cell_type": "code",
   "execution_count": 150,
   "id": "c471875c-131a-4917-9692-9dad5445f2a9",
   "metadata": {},
   "outputs": [
    {
     "data": {
      "text/plain": [
       "'2.3.0'"
      ]
     },
     "execution_count": 150,
     "metadata": {},
     "output_type": "execute_result"
    }
   ],
   "source": [
    "# Importing the libraries\n",
    "import tensorflow as tf\n",
    "from keras.preprocessing.image import ImageDataGenerator\n",
    "from keras.preprocessing import image\n",
    "import numpy as np\n",
    "from sklearn.metrics import accuracy_score\n",
    "from sklearn.metrics import confusion_matrix\n",
    "import seaborn as sns\n",
    "from sklearn.metrics import classification_report\n",
    "from keras.models import save_model\n",
    "from tensorflow.keras.callbacks import EarlyStopping\n",
    "\n",
    "tf.__version__\n",
    "\n",
    "\n"
   ]
  },
  {
   "cell_type": "code",
   "execution_count": 151,
   "id": "68b8aba9-f02f-4cdd-8e31-278fbe26f2f2",
   "metadata": {},
   "outputs": [
    {
     "name": "stdout",
     "output_type": "stream",
     "text": [
      "Found 5400 images belonging to 6 classes.\n"
     ]
    }
   ],
   "source": [
    "train_datagen = ImageDataGenerator(rescale = 1./255,\n",
    "                                   shear_range = 0.0,\n",
    "                                   zoom_range = 0.0,\n",
    "                                   horizontal_flip = True)\n",
    "\n",
    "training_set = train_datagen.flow_from_directory('data/train',\n",
    "                                                 target_size=(64, 64),\n",
    "                                                 batch_size=30,\n",
    "                                                 class_mode='categorical',\n",
    "                                                 shuffle=False)\n"
   ]
  },
  {
   "cell_type": "code",
   "execution_count": 152,
   "id": "2289a37c-5ea0-4928-a290-90a4423a5cf1",
   "metadata": {},
   "outputs": [
    {
     "name": "stdout",
     "output_type": "stream",
     "text": [
      "Found 600 images belonging to 6 classes.\n"
     ]
    }
   ],
   "source": [
    "test_datagen = ImageDataGenerator(rescale = 1./255)\n",
    "test_set = test_datagen.flow_from_directory('data/test',\n",
    "                                            target_size = (64, 64),\n",
    "                                            batch_size = 10,\n",
    "                                            class_mode='categorical',\n",
    "                                            shuffle=False)\n"
   ]
  },
  {
   "cell_type": "code",
   "execution_count": 153,
   "id": "665d77c6",
   "metadata": {},
   "outputs": [
    {
     "data": {
      "text/plain": [
       "{'apple_pie': 0,\n",
       " 'baby_back_ribs': 1,\n",
       " 'caesar_salad': 2,\n",
       " 'caprese_salad': 3,\n",
       " 'cup_cakes': 4,\n",
       " 'donuts': 5}"
      ]
     },
     "execution_count": 153,
     "metadata": {},
     "output_type": "execute_result"
    }
   ],
   "source": [
    "training_set.class_indices"
   ]
  },
  {
   "cell_type": "code",
   "execution_count": 10,
   "id": "8af9a601",
   "metadata": {},
   "outputs": [
    {
     "data": {
      "text/plain": [
       "{'apple_pie': 0,\n",
       " 'baby_back_ribs': 1,\n",
       " 'caesar_salad': 2,\n",
       " 'caprese_salad': 3,\n",
       " 'cup_cakes': 4,\n",
       " 'donuts': 5}"
      ]
     },
     "execution_count": 10,
     "metadata": {},
     "output_type": "execute_result"
    }
   ],
   "source": [
    "test_set.class_indices"
   ]
  },
  {
   "cell_type": "code",
   "execution_count": 132,
   "id": "ec13a2f7-457c-4bcf-bd71-654d3c82189a",
   "metadata": {},
   "outputs": [],
   "source": [
    "cnn = tf.keras.models.Sequential()\n",
    "\n",
    "# Step 1 - Convolution\n",
    "cnn.add(tf.keras.layers.Conv2D(filters=14, kernel_size=6,\n",
    "        activation='relu', input_shape=[64, 64, 3]))\n",
    "\n",
    "# Step 2 - Pooling\n",
    "cnn.add(tf.keras.layers.MaxPool2D(pool_size=2, strides=2))\n",
    "\n",
    "# Adding a second convolutional layer\n",
    "cnn.add(tf.keras.layers.Conv2D(filters=32, kernel_size=4, activation='relu'))\n",
    "cnn.add(tf.keras.layers.MaxPool2D(pool_size=2, strides=2))\n",
    "\n",
    "# Step 3 - Flattening\n",
    "cnn.add(tf.keras.layers.Flatten())\n",
    "\n",
    "# Step 4 - Full Connection\n",
    "cnn.add(tf.keras.layers.Dense(units=147, activation='relu'))\n",
    "#cnn.add(tf.keras.layers.Dense(units=256, activation='relu'))\n",
    "\n",
    "# Step 5 - Output Layer\n",
    "cnn.add(tf.keras.layers.Dense(units=6, activation='softmax'))\n",
    "\n",
    "cnn.compile(optimizer='adam', loss='categorical_crossentropy',\n",
    "            metrics=['accuracy'])\n"
   ]
  },
  {
   "cell_type": "code",
   "execution_count": 133,
   "id": "fabf2f90",
   "metadata": {},
   "outputs": [
    {
     "name": "stdout",
     "output_type": "stream",
     "text": [
      "Epoch 1/80\n",
      "180/180 [==============================] - 20s 110ms/step - loss: 1.8122 - accuracy: 0.1374 - val_loss: 1.7913 - val_accuracy: 0.2000\n",
      "Epoch 2/80\n",
      "180/180 [==============================] - 20s 110ms/step - loss: 1.8006 - accuracy: 0.1446 - val_loss: 1.7909 - val_accuracy: 0.2283\n",
      "Epoch 3/80\n",
      "180/180 [==============================] - 20s 110ms/step - loss: 1.7916 - accuracy: 0.1869 - val_loss: 1.7673 - val_accuracy: 0.2300\n",
      "Epoch 4/80\n",
      "180/180 [==============================] - 20s 110ms/step - loss: 1.7660 - accuracy: 0.1994 - val_loss: 1.7642 - val_accuracy: 0.2200\n",
      "Epoch 5/80\n",
      "180/180 [==============================] - 20s 109ms/step - loss: 1.7859 - accuracy: 0.2315 - val_loss: 1.7180 - val_accuracy: 0.2700\n",
      "Epoch 6/80\n",
      "180/180 [==============================] - 20s 110ms/step - loss: 1.7049 - accuracy: 0.2626 - val_loss: 1.6583 - val_accuracy: 0.3083\n",
      "Epoch 7/80\n",
      "180/180 [==============================] - 20s 110ms/step - loss: 1.6734 - accuracy: 0.2857 - val_loss: 1.6519 - val_accuracy: 0.3117\n",
      "Epoch 8/80\n",
      "180/180 [==============================] - 20s 110ms/step - loss: 1.6598 - accuracy: 0.3167 - val_loss: 1.6127 - val_accuracy: 0.3317\n",
      "Epoch 9/80\n",
      "180/180 [==============================] - 20s 110ms/step - loss: 1.5628 - accuracy: 0.3500 - val_loss: 1.5688 - val_accuracy: 0.3683\n",
      "Epoch 10/80\n",
      "180/180 [==============================] - 20s 111ms/step - loss: 1.5107 - accuracy: 0.3865 - val_loss: 1.8147 - val_accuracy: 0.2833\n",
      "Epoch 11/80\n",
      "180/180 [==============================] - 21s 115ms/step - loss: 1.4904 - accuracy: 0.4056 - val_loss: 1.6194 - val_accuracy: 0.3283\n",
      "Epoch 12/80\n",
      "180/180 [==============================] - 20s 113ms/step - loss: 1.4613 - accuracy: 0.4219 - val_loss: 1.5267 - val_accuracy: 0.3950\n",
      "Epoch 13/80\n",
      "180/180 [==============================] - 20s 112ms/step - loss: 1.3072 - accuracy: 0.4954 - val_loss: 1.5860 - val_accuracy: 0.4467\n",
      "Epoch 14/80\n",
      "180/180 [==============================] - 20s 112ms/step - loss: 1.2082 - accuracy: 0.5472 - val_loss: 1.5434 - val_accuracy: 0.4100\n",
      "Epoch 15/80\n",
      "180/180 [==============================] - 20s 113ms/step - loss: 1.1897 - accuracy: 0.5520 - val_loss: 1.4843 - val_accuracy: 0.4367\n",
      "Epoch 16/80\n",
      "180/180 [==============================] - 20s 111ms/step - loss: 1.0573 - accuracy: 0.6111 - val_loss: 1.4997 - val_accuracy: 0.4583\n",
      "Epoch 17/80\n",
      "180/180 [==============================] - 20s 110ms/step - loss: 0.9654 - accuracy: 0.6420 - val_loss: 1.4256 - val_accuracy: 0.4867\n",
      "Epoch 18/80\n",
      "180/180 [==============================] - 20s 110ms/step - loss: 0.8466 - accuracy: 0.6967 - val_loss: 1.4706 - val_accuracy: 0.4950\n",
      "Epoch 19/80\n",
      "180/180 [==============================] - 20s 110ms/step - loss: 0.7453 - accuracy: 0.7309 - val_loss: 1.5103 - val_accuracy: 0.5083\n",
      "Epoch 20/80\n",
      "180/180 [==============================] - 20s 111ms/step - loss: 0.6540 - accuracy: 0.7678 - val_loss: 1.5398 - val_accuracy: 0.5150\n",
      "Epoch 21/80\n",
      "180/180 [==============================] - 20s 111ms/step - loss: 0.5287 - accuracy: 0.8148 - val_loss: 1.6827 - val_accuracy: 0.4933\n",
      "Epoch 22/80\n",
      "180/180 [==============================] - 20s 110ms/step - loss: 0.4622 - accuracy: 0.8463 - val_loss: 1.8015 - val_accuracy: 0.4967\n",
      "Epoch 23/80\n",
      "180/180 [==============================] - 20s 110ms/step - loss: 0.4194 - accuracy: 0.8596 - val_loss: 1.9449 - val_accuracy: 0.4600\n",
      "Epoch 24/80\n",
      "180/180 [==============================] - 20s 110ms/step - loss: 0.3093 - accuracy: 0.9013 - val_loss: 2.1652 - val_accuracy: 0.4683\n",
      "Epoch 25/80\n",
      "180/180 [==============================] - 20s 110ms/step - loss: 0.2382 - accuracy: 0.9248 - val_loss: 2.0682 - val_accuracy: 0.5100\n"
     ]
    },
    {
     "data": {
      "text/plain": [
       "<tensorflow.python.keras.callbacks.History at 0x1495ce1f070>"
      ]
     },
     "execution_count": 133,
     "metadata": {},
     "output_type": "execute_result"
    }
   ],
   "source": [
    "# Training the CNN on the Training set and evaluating it on the Test set\n",
    "earlystop = EarlyStopping(monitor=\"val_accuracy\",mode=\"max\",patience=5)\n",
    "cnn.fit(x=training_set, validation_data=test_set, epochs=80,callbacks=[earlystop])\n"
   ]
  },
  {
   "cell_type": "code",
   "execution_count": 134,
   "id": "0c95fc23-d828-4bce-8ba5-29b46c3f0ce5",
   "metadata": {},
   "outputs": [
    {
     "data": {
      "text/plain": [
       "array([[3.49840353e-04, 4.01243381e-02, 3.06048663e-04, 8.61791611e-01,\n",
       "        9.39391926e-02, 3.48899444e-03],\n",
       "       [1.48364315e-02, 6.95000309e-03, 1.67432539e-02, 4.76494870e-06,\n",
       "        8.24002624e-01, 1.37462914e-01],\n",
       "       [9.96635377e-01, 1.79614312e-06, 2.77494168e-04, 7.32005992e-06,\n",
       "        3.47865025e-05, 3.04320897e-03],\n",
       "       ...,\n",
       "       [1.62252590e-01, 5.88155873e-02, 1.39452904e-01, 5.73844850e-01,\n",
       "        1.36945508e-02, 5.19395061e-02],\n",
       "       [7.54499924e-04, 7.42419422e-01, 7.67052043e-05, 1.22815229e-01,\n",
       "        8.46155211e-02, 4.93186750e-02],\n",
       "       [5.11020608e-03, 1.36462296e-03, 9.80281159e-02, 1.02917872e-01,\n",
       "        2.78308600e-01, 5.14270604e-01]], dtype=float32)"
      ]
     },
     "execution_count": 134,
     "metadata": {},
     "output_type": "execute_result"
    }
   ],
   "source": [
    "\n",
    "predictions = cnn.predict(test_set)\n",
    "predictions\n"
   ]
  },
  {
   "cell_type": "code",
   "execution_count": 135,
   "id": "8bcc141d",
   "metadata": {},
   "outputs": [
    {
     "data": {
      "text/plain": [
       "array([3, 4, 0, 0, 0, 1, 0, 1, 0, 0, 5, 2, 1, 0, 1, 5, 2, 0, 0, 0, 1, 5,\n",
       "       3, 1, 5, 0, 0, 1, 0, 0, 4, 0, 0, 0, 0, 0, 3, 5, 1, 4, 0, 1, 0, 0,\n",
       "       2, 0, 5, 0, 1, 5, 2, 1, 1, 3, 2, 5, 5, 0, 0, 0, 0, 4, 0, 0, 0, 0,\n",
       "       2, 0, 0, 5, 5, 4, 0, 5, 0, 4, 5, 0, 4, 5, 4, 5, 5, 4, 0, 5, 0, 1,\n",
       "       3, 0, 0, 5, 0, 3, 2, 2, 1, 5, 1, 5, 1, 1, 1, 5, 1, 5, 1, 1, 5, 1,\n",
       "       1, 2, 1, 1, 1, 1, 3, 1, 1, 1, 1, 1, 2, 1, 4, 1, 4, 1, 1, 5, 5, 4,\n",
       "       1, 1, 1, 1, 1, 1, 1, 3, 3, 5, 1, 1, 1, 1, 1, 1, 4, 1, 1, 1, 5, 3,\n",
       "       1, 1, 1, 1, 1, 1, 1, 1, 2, 5, 1, 1, 1, 1, 0, 1, 1, 3, 1, 1, 1, 5,\n",
       "       4, 1, 5, 1, 5, 5, 1, 1, 1, 1, 0, 1, 3, 1, 1, 1, 1, 1, 1, 1, 3, 1,\n",
       "       5, 1, 4, 1, 2, 2, 4, 2, 5, 0, 2, 2, 2, 2, 0, 0, 2, 2, 4, 2, 5, 5,\n",
       "       2, 2, 2, 2, 2, 2, 2, 2, 2, 2, 5, 2, 2, 2, 2, 2, 2, 2, 3, 0, 2, 2,\n",
       "       2, 2, 2, 3, 2, 5, 2, 2, 0, 2, 1, 2, 2, 3, 2, 2, 2, 2, 1, 2, 0, 2,\n",
       "       0, 2, 2, 0, 2, 2, 2, 5, 2, 2, 3, 5, 4, 2, 2, 2, 5, 2, 2, 2, 2, 2,\n",
       "       3, 2, 2, 3, 2, 3, 2, 2, 2, 2, 2, 2, 2, 2, 3, 5, 5, 5, 3, 3, 3, 3,\n",
       "       3, 2, 5, 5, 3, 2, 3, 3, 3, 3, 2, 1, 2, 3, 3, 5, 3, 5, 0, 1, 2, 1,\n",
       "       3, 1, 1, 3, 3, 2, 2, 2, 3, 3, 1, 4, 4, 2, 3, 3, 3, 3, 3, 3, 1, 3,\n",
       "       3, 1, 0, 3, 3, 1, 3, 3, 3, 1, 3, 1, 3, 1, 2, 3, 3, 3, 3, 4, 2, 1,\n",
       "       3, 3, 1, 0, 3, 4, 2, 3, 3, 5, 5, 3, 3, 3, 5, 2, 1, 3, 3, 3, 3, 2,\n",
       "       1, 3, 3, 1, 4, 0, 4, 2, 4, 1, 5, 4, 5, 4, 0, 4, 5, 0, 5, 5, 4, 4,\n",
       "       1, 5, 4, 5, 5, 4, 0, 5, 5, 3, 5, 5, 5, 3, 5, 1, 4, 5, 1, 2, 4, 4,\n",
       "       2, 4, 4, 3, 3, 0, 4, 3, 5, 0, 5, 5, 2, 4, 0, 5, 1, 2, 4, 4, 0, 4,\n",
       "       0, 4, 1, 4, 4, 5, 5, 0, 5, 3, 5, 4, 4, 3, 3, 4, 5, 4, 2, 2, 0, 1,\n",
       "       5, 5, 1, 5, 4, 5, 5, 4, 3, 2, 4, 0, 1, 2, 5, 5, 1, 2, 3, 5, 3, 5,\n",
       "       5, 5, 2, 0, 5, 5, 5, 5, 1, 0, 5, 1, 0, 0, 5, 0, 4, 3, 2, 1, 5, 5,\n",
       "       1, 5, 3, 5, 5, 5, 4, 2, 4, 5, 5, 0, 5, 2, 5, 5, 5, 5, 2, 4, 5, 5,\n",
       "       3, 1, 0, 5, 1, 0, 0, 3, 1, 5, 1, 4, 1, 0, 1, 1, 0, 5, 5, 0, 5, 1,\n",
       "       1, 1, 4, 2, 5, 4, 2, 5, 0, 1, 1, 1, 3, 1, 5, 5, 5, 5, 5, 5, 2, 5,\n",
       "       5, 1, 5, 3, 1, 5], dtype=int64)"
      ]
     },
     "execution_count": 135,
     "metadata": {},
     "output_type": "execute_result"
    }
   ],
   "source": [
    "predictions = np.argmax(predictions, axis=1)\n",
    "predictions\n"
   ]
  },
  {
   "cell_type": "code",
   "execution_count": 136,
   "id": "acd77de6",
   "metadata": {},
   "outputs": [
    {
     "name": "stdout",
     "output_type": "stream",
     "text": [
      "Model: \"sequential_8\"\n",
      "_________________________________________________________________\n",
      "Layer (type)                 Output Shape              Param #   \n",
      "=================================================================\n",
      "conv2d_16 (Conv2D)           (None, 59, 59, 14)        1526      \n",
      "_________________________________________________________________\n",
      "max_pooling2d_16 (MaxPooling (None, 29, 29, 14)        0         \n",
      "_________________________________________________________________\n",
      "conv2d_17 (Conv2D)           (None, 26, 26, 32)        7200      \n",
      "_________________________________________________________________\n",
      "max_pooling2d_17 (MaxPooling (None, 13, 13, 32)        0         \n",
      "_________________________________________________________________\n",
      "flatten_8 (Flatten)          (None, 5408)              0         \n",
      "_________________________________________________________________\n",
      "dense_17 (Dense)             (None, 147)               795123    \n",
      "_________________________________________________________________\n",
      "dense_18 (Dense)             (None, 6)                 888       \n",
      "=================================================================\n",
      "Total params: 804,737\n",
      "Trainable params: 804,737\n",
      "Non-trainable params: 0\n",
      "_________________________________________________________________\n"
     ]
    }
   ],
   "source": [
    "cnn.summary()\n"
   ]
  },
  {
   "cell_type": "code",
   "execution_count": 154,
   "id": "c7097c4e-8c1b-45a9-b1cd-b94d78c3d94c",
   "metadata": {},
   "outputs": [
    {
     "data": {
      "text/plain": [
       "array([[8.6473942e-01, 5.5530097e-04, 1.6876230e-02, 1.9259029e-04,\n",
       "        5.8007869e-03, 1.1183566e-01]], dtype=float32)"
      ]
     },
     "execution_count": 154,
     "metadata": {},
     "output_type": "execute_result"
    }
   ],
   "source": [
    "\n",
    "img_name = 'apple_pie.jpg'\n",
    "test_image = image.load_img(img_name, target_size=(64, 64))\n",
    "test_image = image.img_to_array(test_image)\n",
    "#testovat naraz mozeme viacero zobrazkov, preto musime pridat este jeden rozmer - testujeme 1 obrazok\n",
    "test_image = np.expand_dims(test_image, axis=0)\n",
    "result = cnn.predict(test_image/255.0)\n",
    "result\n"
   ]
  },
  {
   "cell_type": "code",
   "execution_count": 155,
   "id": "e8418d8e",
   "metadata": {},
   "outputs": [
    {
     "name": "stdout",
     "output_type": "stream",
     "text": [
      "Na obrazku je apple pie\n"
     ]
    }
   ],
   "source": [
    "slovnik = {0: \"apple pie\", 1: \"baby back ribs\", 2: \"caesar salad\", 3: \"caprese salad\",4:\"cup cake\",5:\"donut\"}\n",
    "predikcia = np.argmax(result, axis=1).astype(int)\n",
    "\n",
    "print('Na obrazku je', slovnik[predikcia[0]])\n"
   ]
  },
  {
   "cell_type": "code",
   "execution_count": 156,
   "id": "a02ce326",
   "metadata": {},
   "outputs": [
    {
     "data": {
      "text/plain": [
       "True"
      ]
     },
     "execution_count": 156,
     "metadata": {},
     "output_type": "execute_result"
    }
   ],
   "source": [
    "#vypisanie predikcie do obrazku\n",
    "import cv2\n",
    "im = cv2.imread(img_name, 1)\n",
    "font = cv2.FONT_HERSHEY_SIMPLEX\n",
    "cv2.putText(im, slovnik[predikcia[0]], (0, 200),\n",
    "            font, 2, (0, 255, 0), 2, cv2.LINE_AA)\n",
    "cv2.imwrite('result-text.jpg', im)\n"
   ]
  },
  {
   "cell_type": "code",
   "execution_count": 143,
   "id": "7e593612",
   "metadata": {},
   "outputs": [
    {
     "data": {
      "text/plain": [
       "0.51"
      ]
     },
     "execution_count": 143,
     "metadata": {},
     "output_type": "execute_result"
    }
   ],
   "source": [
    "#vypis presnosti neuronovej siete\n",
    "accuracy_score(test_set.classes, predictions)\n"
   ]
  },
  {
   "cell_type": "code",
   "execution_count": 144,
   "id": "5e2e9429",
   "metadata": {},
   "outputs": [
    {
     "data": {
      "text/plain": [
       "array([[42, 15,  8,  6,  9, 20],\n",
       "       [ 2, 70,  3,  7,  5, 13],\n",
       "       [ 8,  3, 70,  7,  4,  8],\n",
       "       [ 3, 17, 14, 52,  4, 10],\n",
       "       [12,  9,  9,  9, 30, 31],\n",
       "       [13, 21,  9,  8,  7, 42]], dtype=int64)"
      ]
     },
     "execution_count": 144,
     "metadata": {},
     "output_type": "execute_result"
    }
   ],
   "source": [
    "#vypis confusion matrixu\n",
    "cm = confusion_matrix(test_set.classes, predictions)\n",
    "cm"
   ]
  },
  {
   "cell_type": "code",
   "execution_count": 157,
   "id": "7bee6e01",
   "metadata": {},
   "outputs": [
    {
     "data": {
      "text/plain": [
       "<AxesSubplot:>"
      ]
     },
     "execution_count": 157,
     "metadata": {},
     "output_type": "execute_result"
    },
    {
     "data": {
      "image/png": "[encoded data removed]",
      "text/plain": [
       "<Figure size 432x288 with 2 Axes>"
      ]
     },
     "metadata": {
      "needs_background": "light"
     },
     "output_type": "display_data"
    }
   ],
   "source": [
    "#vypis heatmapy - cim je diagonala svetlejsia, tym lepsia je siet\n",
    "sns.heatmap(cm, annot=True)"
   ]
  },
  {
   "cell_type": "code",
   "execution_count": 158,
   "id": "754890f1",
   "metadata": {},
   "outputs": [
    {
     "name": "stdout",
     "output_type": "stream",
     "text": [
      "              precision    recall  f1-score   support\n",
      "\n",
      "           0       0.53      0.42      0.47       100\n",
      "           1       0.52      0.70      0.60       100\n",
      "           2       0.62      0.70      0.66       100\n",
      "           3       0.58      0.52      0.55       100\n",
      "           4       0.51      0.30      0.38       100\n",
      "           5       0.34      0.42      0.38       100\n",
      "\n",
      "    accuracy                           0.51       600\n",
      "   macro avg       0.52      0.51      0.50       600\n",
      "weighted avg       0.52      0.51      0.50       600\n",
      "\n"
     ]
    }
   ],
   "source": [
    "print(classification_report(test_set.classes, predictions))\n"
   ]
  },
  {
   "cell_type": "code",
   "execution_count": 147,
   "id": "a5d65dbb",
   "metadata": {},
   "outputs": [],
   "source": [
    "#ulozenie ns\n",
    "model_json = cnn.to_json()\n",
    "with open('exp2.json', 'w') as json_file:\n",
    "    json_file.write(model_json)\n",
    "\n",
    "#ulozenie vahy\n",
    "network_saved = save_model(cnn, 'weightsExp2.hdf5')\n"
   ]
  },
  {
   "cell_type": "code",
   "execution_count": 148,
   "id": "260c818e",
   "metadata": {},
   "outputs": [
    {
     "data": {
      "text/plain": [
       "'{\"class_name\": \"Sequential\", \"config\": {\"name\": \"sequential_8\", \"layers\": [{\"class_name\": \"InputLayer\", \"config\": {\"batch_input_shape\": [null, 64, 64, 3], \"dtype\": \"float32\", \"sparse\": false, \"ragged\": false, \"name\": \"conv2d_16_input\"}}, {\"class_name\": \"Conv2D\", \"config\": {\"name\": \"conv2d_16\", \"trainable\": true, \"batch_input_shape\": [null, 64, 64, 3], \"dtype\": \"float32\", \"filters\": 14, \"kernel_size\": [6, 6], \"strides\": [1, 1], \"padding\": \"valid\", \"data_format\": \"channels_last\", \"dilation_rate\": [1, 1], \"groups\": 1, \"activation\": \"relu\", \"use_bias\": true, \"kernel_initializer\": {\"class_name\": \"GlorotUniform\", \"config\": {\"seed\": null}}, \"bias_initializer\": {\"class_name\": \"Zeros\", \"config\": {}}, \"kernel_regularizer\": null, \"bias_regularizer\": null, \"activity_regularizer\": null, \"kernel_constraint\": null, \"bias_constraint\": null}}, {\"class_name\": \"MaxPooling2D\", \"config\": {\"name\": \"max_pooling2d_16\", \"trainable\": true, \"dtype\": \"float32\", \"pool_size\": [2, 2], \"padding\": \"valid\", \"strides\": [2, 2], \"data_format\": \"channels_last\"}}, {\"class_name\": \"Conv2D\", \"config\": {\"name\": \"conv2d_17\", \"trainable\": true, \"dtype\": \"float32\", \"filters\": 32, \"kernel_size\": [4, 4], \"strides\": [1, 1], \"padding\": \"valid\", \"data_format\": \"channels_last\", \"dilation_rate\": [1, 1], \"groups\": 1, \"activation\": \"relu\", \"use_bias\": true, \"kernel_initializer\": {\"class_name\": \"GlorotUniform\", \"config\": {\"seed\": null}}, \"bias_initializer\": {\"class_name\": \"Zeros\", \"config\": {}}, \"kernel_regularizer\": null, \"bias_regularizer\": null, \"activity_regularizer\": null, \"kernel_constraint\": null, \"bias_constraint\": null}}, {\"class_name\": \"MaxPooling2D\", \"config\": {\"name\": \"max_pooling2d_17\", \"trainable\": true, \"dtype\": \"float32\", \"pool_size\": [2, 2], \"padding\": \"valid\", \"strides\": [2, 2], \"data_format\": \"channels_last\"}}, {\"class_name\": \"Flatten\", \"config\": {\"name\": \"flatten_8\", \"trainable\": true, \"dtype\": \"float32\", \"data_format\": \"channels_last\"}}, {\"class_name\": \"Dense\", \"config\": {\"name\": \"dense_17\", \"trainable\": true, \"dtype\": \"float32\", \"units\": 147, \"activation\": \"relu\", \"use_bias\": true, \"kernel_initializer\": {\"class_name\": \"GlorotUniform\", \"config\": {\"seed\": null}}, \"bias_initializer\": {\"class_name\": \"Zeros\", \"config\": {}}, \"kernel_regularizer\": null, \"bias_regularizer\": null, \"activity_regularizer\": null, \"kernel_constraint\": null, \"bias_constraint\": null}}, {\"class_name\": \"Dense\", \"config\": {\"name\": \"dense_18\", \"trainable\": true, \"dtype\": \"float32\", \"units\": 6, \"activation\": \"softmax\", \"use_bias\": true, \"kernel_initializer\": {\"class_name\": \"GlorotUniform\", \"config\": {\"seed\": null}}, \"bias_initializer\": {\"class_name\": \"Zeros\", \"config\": {}}, \"kernel_regularizer\": null, \"bias_regularizer\": null, \"activity_regularizer\": null, \"kernel_constraint\": null, \"bias_constraint\": null}}]}, \"keras_version\": \"2.4.0\", \"backend\": \"tensorflow\"}'"
      ]
     },
     "execution_count": 148,
     "metadata": {},
     "output_type": "execute_result"
    }
   ],
   "source": [
    "#nacitanie ns\n",
    "with open('exp2.json', 'r') as json_file:\n",
    "    json_saved_model = json_file.read()\n",
    "json_saved_model\n"
   ]
  },
  {
   "cell_type": "code",
   "execution_count": 149,
   "id": "58d61600",
   "metadata": {},
   "outputs": [
    {
     "name": "stdout",
     "output_type": "stream",
     "text": [
      "Model: \"sequential_8\"\n",
      "_________________________________________________________________\n",
      "Layer (type)                 Output Shape              Param #   \n",
      "=================================================================\n",
      "conv2d_16 (Conv2D)           (None, 59, 59, 14)        1526      \n",
      "_________________________________________________________________\n",
      "max_pooling2d_16 (MaxPooling (None, 29, 29, 14)        0         \n",
      "_________________________________________________________________\n",
      "conv2d_17 (Conv2D)           (None, 26, 26, 32)        7200      \n",
      "_________________________________________________________________\n",
      "max_pooling2d_17 (MaxPooling (None, 13, 13, 32)        0         \n",
      "_________________________________________________________________\n",
      "flatten_8 (Flatten)          (None, 5408)              0         \n",
      "_________________________________________________________________\n",
      "dense_17 (Dense)             (None, 147)               795123    \n",
      "_________________________________________________________________\n",
      "dense_18 (Dense)             (None, 6)                 888       \n",
      "=================================================================\n",
      "Total params: 804,737\n",
      "Trainable params: 804,737\n",
      "Non-trainable params: 0\n",
      "_________________________________________________________________\n"
     ]
    }
   ],
   "source": [
    "network_loaded = tf.keras.models.model_from_json(json_saved_model)\n",
    "network_loaded.load_weights('weightsExp2.hdf5')\n",
    "network_loaded.compile(loss='categorical_crossentropy',\n",
    "                       optimizer='Adam', metrics=['accuracy'])\n",
    "network_loaded.summary()\n"
   ]
  }
 ],
 "metadata": {
  "kernelspec": {
   "display_name": "Python 3",
   "language": "python",
   "name": "python3"
  },
  "language_info": {
   "codemirror_mode": {
    "name": "ipython",
    "version": 3
   },
   "file_extension": ".py",
   "mimetype": "text/x-python",
   "name": "python",
   "nbconvert_exporter": "python",
   "pygments_lexer": "ipython3",
   "version": "3.8.8"
  }
 },
 "nbformat": 4,
 "nbformat_minor": 5
}
